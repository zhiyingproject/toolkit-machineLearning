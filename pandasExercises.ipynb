{
  "nbformat": 4,
  "nbformat_minor": 0,
  "metadata": {
    "colab": {
      "name": "pandasExercises.ipynb",
      "provenance": [],
      "collapsed_sections": [],
      "authorship_tag": "ABX9TyNfZvqdzDIzpZiXG5Ew0fM2",
      "include_colab_link": true
    },
    "kernelspec": {
      "name": "python3",
      "display_name": "Python 3"
    },
    "language_info": {
      "name": "python"
    }
  },
  "cells": [
    {
      "cell_type": "markdown",
      "metadata": {
        "id": "view-in-github",
        "colab_type": "text"
      },
      "source": [
        "<a href=\"https://colab.research.google.com/github/zhiyingproject/toolkit-machineLearning/blob/main/pandasExercises.ipynb\" target=\"_parent\"><img src=\"https://colab.research.google.com/assets/colab-badge.svg\" alt=\"Open In Colab\"/></a>"
      ]
    },
    {
      "cell_type": "markdown",
      "metadata": {
        "id": "S9AJS4ekzHNw"
      },
      "source": [
        "# This note book lists the exercises for practising **pandas**"
      ]
    },
    {
      "cell_type": "markdown",
      "metadata": {
        "id": "NP3dYk6qzb3W"
      },
      "source": [
        "1. Series"
      ]
    },
    {
      "cell_type": "code",
      "metadata": {
        "id": "ouLs39DD0FCF"
      },
      "source": [
        "import pandas as pd\n",
        "import numpy as np"
      ],
      "execution_count": 8,
      "outputs": []
    },
    {
      "cell_type": "markdown",
      "metadata": {
        "id": "5kh65PmEAcQW"
      },
      "source": [
        "About **Pandas Series**"
      ]
    },
    {
      "cell_type": "code",
      "metadata": {
        "colab": {
          "base_uri": "https://localhost:8080/"
        },
        "id": "cKELMxeczB4Q",
        "outputId": "ac657f04-b4fc-467c-c807-f4c2578f0eba"
      },
      "source": [
        "# Create a pandas series\n",
        "s1 = pd.Series([1,2,3,4,5])\n",
        "s2 = pd.Series([2,4,5,7,8])\n",
        "# Convert the series to a python list\n",
        "lst = s1.to_list()\n",
        "# Show the dataset's type\n",
        "print(type(s1))\n",
        "# Add, subtrace, multiple and divide two Pandas' \n",
        "s_s = s1 - s2\n",
        "s_m = s1 * s2\n",
        "s_d = s1 / s2\n",
        "\n",
        "# Compare the elements of the two Pandas Series\n",
        "'''print(s1 == s2)\n",
        "print(s1 > s2)\n",
        "print(s1 < s2)'''\n",
        "\n",
        "# Convert a dictionary/numpy array to a Pandas series\n",
        "dict1 = {'a': 100, 'b': 200, 'c': 300, 'd': 400, 'e': 800}\n",
        "lst = np.array([10, 20, 30])\n",
        "s_dict = pd.Series(dict1)\n",
        "s_lst = pd.Series(lst)"
      ],
      "execution_count": 9,
      "outputs": [
        {
          "output_type": "stream",
          "name": "stdout",
          "text": [
            "<class 'pandas.core.series.Series'>\n",
            "0    10\n",
            "1    20\n",
            "2    30\n",
            "dtype: int64\n"
          ]
        }
      ]
    },
    {
      "cell_type": "code",
      "metadata": {
        "colab": {
          "base_uri": "https://localhost:8080/"
        },
        "id": "TUyQsHSJCrdR",
        "outputId": "99f2ef45-eaf9-4e3a-bdff-aebebc4d6167"
      },
      "source": [
        "# Change the data type of a given column or a Series\n",
        "s = pd.Series(['100', '200', 'python', '300.12', '400'])\n",
        "s_new = pd.to_numeric(s, errors='coerce')\n",
        "print(s_new)"
      ],
      "execution_count": 11,
      "outputs": [
        {
          "output_type": "stream",
          "name": "stdout",
          "text": [
            "0    100.00\n",
            "1    200.00\n",
            "2       NaN\n",
            "3    300.12\n",
            "4    400.00\n",
            "dtype: float64\n"
          ]
        }
      ]
    }
  ]
}