{
  "nbformat": 4,
  "nbformat_minor": 0,
  "metadata": {
    "colab": {
      "name": "pandasExercises.ipynb",
      "provenance": [],
      "authorship_tag": "ABX9TyOllX4YZ0dHyU2Sts/OxNbJ",
      "include_colab_link": true
    },
    "kernelspec": {
      "name": "python3",
      "display_name": "Python 3"
    },
    "language_info": {
      "name": "python"
    }
  },
  "cells": [
    {
      "cell_type": "markdown",
      "metadata": {
        "id": "view-in-github",
        "colab_type": "text"
      },
      "source": [
        "<a href=\"https://colab.research.google.com/github/zhiyingproject/toolkit-machineLearning/blob/main/pandasExercises.ipynb\" target=\"_parent\"><img src=\"https://colab.research.google.com/assets/colab-badge.svg\" alt=\"Open In Colab\"/></a>"
      ]
    },
    {
      "cell_type": "markdown",
      "metadata": {
        "id": "S9AJS4ekzHNw"
      },
      "source": [
        "# This note book lists the exercises for practising **pandas**"
      ]
    },
    {
      "cell_type": "markdown",
      "metadata": {
        "id": "NP3dYk6qzb3W"
      },
      "source": [
        "1. Series"
      ]
    },
    {
      "cell_type": "code",
      "metadata": {
        "id": "ouLs39DD0FCF"
      },
      "source": [
        ""
      ],
      "execution_count": null,
      "outputs": []
    },
    {
      "cell_type": "code",
      "metadata": {
        "id": "cKELMxeczB4Q"
      },
      "source": [
        "# Create a pandas series\n",
        "s = pd."
      ],
      "execution_count": null,
      "outputs": []
    }
  ]
}