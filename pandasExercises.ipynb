{
  "nbformat": 4,
  "nbformat_minor": 0,
  "metadata": {
    "colab": {
      "name": "pandasExercises.ipynb",
      "provenance": [],
      "collapsed_sections": [],
      "authorship_tag": "ABX9TyMjFdUnKEMFgUvb8IczFCX9",
      "include_colab_link": true
    },
    "kernelspec": {
      "name": "python3",
      "display_name": "Python 3"
    },
    "language_info": {
      "name": "python"
    }
  },
  "cells": [
    {
      "cell_type": "markdown",
      "metadata": {
        "id": "view-in-github",
        "colab_type": "text"
      },
      "source": [
        "<a href=\"https://colab.research.google.com/github/zhiyingproject/toolkit-machineLearning/blob/main/pandasExercises.ipynb\" target=\"_parent\"><img src=\"https://colab.research.google.com/assets/colab-badge.svg\" alt=\"Open In Colab\"/></a>"
      ]
    },
    {
      "cell_type": "markdown",
      "metadata": {
        "id": "S9AJS4ekzHNw"
      },
      "source": [
        "# This note book lists the exercises for practising **pandas**"
      ]
    },
    {
      "cell_type": "markdown",
      "metadata": {
        "id": "NP3dYk6qzb3W"
      },
      "source": [
        "1. Series"
      ]
    },
    {
      "cell_type": "code",
      "metadata": {
        "id": "ouLs39DD0FCF"
      },
      "source": [
        "import pandas as pd\n",
        "import numpy as np"
      ],
      "execution_count": 1,
      "outputs": []
    },
    {
      "cell_type": "markdown",
      "metadata": {
        "id": "5kh65PmEAcQW"
      },
      "source": [
        "About **Pandas Series**"
      ]
    },
    {
      "cell_type": "code",
      "metadata": {
        "id": "cKELMxeczB4Q"
      },
      "source": [
        "# Create a pandas series\n",
        "s1 = pd.Series([1,2,3,4,5])\n",
        "s2 = pd.Series([2,4,5,7,8])\n",
        "# Convert the series to a python list\n",
        "lst = s1.to_list()\n",
        "# Show the dataset's type\n",
        "print(type(s1))\n",
        "# Add, subtrace, multiple and divide two Pandas' \n",
        "s_s = s1 - s2\n",
        "s_m = s1 * s2\n",
        "s_d = s1 / s2\n",
        "\n",
        "# Compare the elements of the two Pandas Series\n",
        "print(s1 == s2)\n",
        "print(s1 > s2)\n",
        "print(s1 < s2)\n",
        "\n",
        "# Convert a dictionary/numpy array to a Pandas series\n",
        "dict1 = {'a': 100, 'b': 200, 'c': 300, 'd': 400, 'e': 800}\n",
        "lst = np.array([10, 20, 30])\n",
        "s_dict = pd.Series(dict1)\n",
        "s_lst = pd.Series(lst)"
      ],
      "execution_count": null,
      "outputs": []
    },
    {
      "cell_type": "code",
      "metadata": {
        "id": "TUyQsHSJCrdR"
      },
      "source": [
        "# Change the data type of a given column or a Series\n",
        "s = pd.Series(['100', '200', 'python', '300.12', '400'])\n",
        "s_new = pd.to_numeric(s, errors='coerce')\n",
        "\n",
        "# Convert the first column of a dataframe as a series\n",
        "d =  {'col1': [1, 2, 3, 4, 7, 11], \n",
        "      'col2': [4, 5, 6, 9, 5, 0], \n",
        "      'col3': [7, 5, 8, 12, 1,11]}\n",
        "df = pd.DataFrame(d)\n",
        "s = df.iloc[:,0]\n",
        "\n",
        "# Write a Pandas program to convert a given Series to an array.\n",
        "s_array = s.values\n",
        "\n",
        "# Write a Pandas program to convert Series of lists to one Series\n",
        "s1 = pd.Series([[\"Red\", \"Green\", \"White\"],[\"Red\", \"Black\"], [\"Yellow\"]])\n",
        "s_flat = s1.apply(pd.Series).stack().reset_index(drop=True)\n",
        "\n",
        "# Write a Pandas program to sort a given Series. \n",
        "s = pd.Series(['100', '200', 'python', '300.12', '400'])\n",
        "s_sorted = s.sort_values()\n",
        "\n",
        "# Write a Pandas program to add some data to an existing Series\n",
        "s = pd.Series(['100', '200', 'python', '300.12', '400'])\n",
        "new_s = s.append(pd.Series(['500','PHP']))\n",
        "\n",
        "## Write a Pandas program to create a subset of a given series based on \n",
        "# value and condition.\n",
        "s = pd.Series([1,2,3,4,5,6,7,8,9,10])\n",
        "n = 6\n",
        "s_cut = s[s < n]\n",
        "\n",
        "## Write a Pandas program to change the order of index of a given series.\n",
        "s = pd.Series([1,2,3,4,5], index=['A','B','C','D','E'])\n",
        "s = s.reindex(index = ['B','A','C','D','E'])"
      ],
      "execution_count": null,
      "outputs": []
    },
    {
      "cell_type": "code",
      "metadata": {
        "colab": {
          "base_uri": "https://localhost:8080/"
        },
        "id": "CpVwoCMPpBus",
        "outputId": "9c97743b-9098-4780-b839-2631f11f3524"
      },
      "source": [
        "# Write a Pandas program to create the mean and standard deviation of the data of a given Series. \n",
        "s = pd.Series([1,2,3,4,5,6,7,8,9,5,3])\n",
        "mean = s.mean()\n",
        "std = s.std()\n",
        "\n",
        "## Write a Pandas program to get the items of a given series not present in another given series. \n",
        "s1 = pd.Series([1,2,3,4,5])\n",
        "s2 = pd.Series([2,4,6,8,10])\n",
        "s_diff = s1[~s1.isin(s2)]\n",
        "\n",
        "# Write a Pandas program to get the items which are not common of two given series\n",
        "s_diff2 = pd.Series(np.union1d(s1[~s1.isin(s2)], s2[~s2.isin(s1)]))\n",
        "# or\n",
        "sr11 = pd.Series(np.union1d(sr1, sr2))\n",
        "sr22 = pd.Series(np.intersect1d(sr1, sr2))\n",
        "result = sr11[~sr11.isin(sr22)]\n",
        "\n",
        "## Write a program to compute the minimum, 25th percentile, median, 75th, and maximum of a given series. \n",
        "num_state"
      ],
      "execution_count": 2,
      "outputs": [
        {
          "output_type": "stream",
          "name": "stdout",
          "text": [
            "0     1\n",
            "1     3\n",
            "2     5\n",
            "3     6\n",
            "4     8\n",
            "5    10\n",
            "dtype: int64\n"
          ]
        }
      ]
    }
  ]
}